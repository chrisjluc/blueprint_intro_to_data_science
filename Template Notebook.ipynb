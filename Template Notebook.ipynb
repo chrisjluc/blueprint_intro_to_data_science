{
 "cells": [
  {
   "cell_type": "markdown",
   "metadata": {},
   "source": [
    "<title>Intro to Data Science by Blueprint</title>"
   ]
  },
  {
   "cell_type": "markdown",
   "metadata": {},
   "source": [
    "<h1>Intro to Data Science by Blueprint</h1>\n",
    "\n",
    "\n",
    "<h2>Import Libraries</h2>"
   ]
  },
  {
   "cell_type": "code",
   "execution_count": 1,
   "metadata": {
    "collapsed": true
   },
   "outputs": [],
   "source": [
    "# Ignore all warnings because we live dangerously like that\n",
    "import warnings\n",
    "warnings.filterwarnings('ignore')\n",
    "\n",
    "import itertools # Iteration tools\n",
    "import matplotlib.pyplot as plt # plotting library\n",
    "import numpy as np # linear algebra, number processing\n",
    "import pandas as pd # data processing, data frames. CSV file I/O (e.g. pd.read_csv)\n",
    "import statsmodels.api as sm # statistic models i.e. linear regression\n",
    "import geopandas as gpd # data processing with geospatial data\n",
    "from geopandas.plotting import (plot_linestring, plot_point, norm_cmap) # Plotting geospatial data\n",
    "\n",
    "# Bokeh is a visualization library that leverages JS and is similar to D3.js\n",
    "from bokeh.io import show, output_notebook, push_notebook \n",
    "from bokeh.plotting import figure, ColumnDataSource\n",
    "from bokeh.models import HoverTool\n",
    "\n",
    "from collections import defaultdict\n",
    "\n",
    "# Additional imports for matplotlib\n",
    "from matplotlib.lines import Line2D\n",
    "from matplotlib.colors import Normalize\n",
    "from matplotlib import cm\n",
    "from sklearn import preprocessing # data preprocessing"
   ]
  },
  {
   "cell_type": "markdown",
   "metadata": {},
   "source": [
    "<h2>Set up Notebook</h2>"
   ]
  },
  {
   "cell_type": "code",
   "execution_count": 2,
   "metadata": {},
   "outputs": [
    {
     "data": {
      "text/html": [
       "\n",
       "    <div class=\"bk-root\">\n",
       "        <a href=\"http://bokeh.pydata.org\" target=\"_blank\" class=\"bk-logo bk-logo-small bk-logo-notebook\"></a>\n",
       "        <span id=\"f87ee0fe-2291-4127-a5da-838bf1a51fb9\">Loading BokehJS ...</span>\n",
       "    </div>"
      ]
     },
     "metadata": {},
     "output_type": "display_data"
    },
    {
     "data": {
      "application/javascript": [
       "\n",
       "(function(global) {\n",
       "  function now() {\n",
       "    return new Date();\n",
       "  }\n",
       "\n",
       "  var force = true;\n",
       "\n",
       "  if (typeof (window._bokeh_onload_callbacks) === \"undefined\" || force === true) {\n",
       "    window._bokeh_onload_callbacks = [];\n",
       "    window._bokeh_is_loading = undefined;\n",
       "  }\n",
       "\n",
       "\n",
       "  \n",
       "  if (typeof (window._bokeh_timeout) === \"undefined\" || force === true) {\n",
       "    window._bokeh_timeout = Date.now() + 5000;\n",
       "    window._bokeh_failed_load = false;\n",
       "  }\n",
       "\n",
       "  var NB_LOAD_WARNING = {'data': {'text/html':\n",
       "     \"<div style='background-color: #fdd'>\\n\"+\n",
       "     \"<p>\\n\"+\n",
       "     \"BokehJS does not appear to have successfully loaded. If loading BokehJS from CDN, this \\n\"+\n",
       "     \"may be due to a slow or bad network connection. Possible fixes:\\n\"+\n",
       "     \"</p>\\n\"+\n",
       "     \"<ul>\\n\"+\n",
       "     \"<li>re-rerun `output_notebook()` to attempt to load from CDN again, or</li>\\n\"+\n",
       "     \"<li>use INLINE resources instead, as so:</li>\\n\"+\n",
       "     \"</ul>\\n\"+\n",
       "     \"<code>\\n\"+\n",
       "     \"from bokeh.resources import INLINE\\n\"+\n",
       "     \"output_notebook(resources=INLINE)\\n\"+\n",
       "     \"</code>\\n\"+\n",
       "     \"</div>\"}};\n",
       "\n",
       "  function display_loaded() {\n",
       "    if (window.Bokeh !== undefined) {\n",
       "      var el = document.getElementById(\"f87ee0fe-2291-4127-a5da-838bf1a51fb9\");\n",
       "      el.textContent = \"BokehJS \" + Bokeh.version + \" successfully loaded.\";\n",
       "    } else if (Date.now() < window._bokeh_timeout) {\n",
       "      setTimeout(display_loaded, 100)\n",
       "    }\n",
       "  }\n",
       "\n",
       "  function run_callbacks() {\n",
       "    try {\n",
       "      window._bokeh_onload_callbacks.forEach(function(callback) { callback() });\n",
       "    }\n",
       "    finally {\n",
       "      delete window._bokeh_onload_callbacks\n",
       "    }\n",
       "    console.info(\"Bokeh: all callbacks have finished\");\n",
       "  }\n",
       "\n",
       "  function load_libs(js_urls, callback) {\n",
       "    window._bokeh_onload_callbacks.push(callback);\n",
       "    if (window._bokeh_is_loading > 0) {\n",
       "      console.log(\"Bokeh: BokehJS is being loaded, scheduling callback at\", now());\n",
       "      return null;\n",
       "    }\n",
       "    if (js_urls == null || js_urls.length === 0) {\n",
       "      run_callbacks();\n",
       "      return null;\n",
       "    }\n",
       "    console.log(\"Bokeh: BokehJS not loaded, scheduling load and callback at\", now());\n",
       "    window._bokeh_is_loading = js_urls.length;\n",
       "    for (var i = 0; i < js_urls.length; i++) {\n",
       "      var url = js_urls[i];\n",
       "      var s = document.createElement('script');\n",
       "      s.src = url;\n",
       "      s.async = false;\n",
       "      s.onreadystatechange = s.onload = function() {\n",
       "        window._bokeh_is_loading--;\n",
       "        if (window._bokeh_is_loading === 0) {\n",
       "          console.log(\"Bokeh: all BokehJS libraries loaded\");\n",
       "          run_callbacks()\n",
       "        }\n",
       "      };\n",
       "      s.onerror = function() {\n",
       "        console.warn(\"failed to load library \" + url);\n",
       "      };\n",
       "      console.log(\"Bokeh: injecting script tag for BokehJS library: \", url);\n",
       "      document.getElementsByTagName(\"head\")[0].appendChild(s);\n",
       "    }\n",
       "  };var element = document.getElementById(\"f87ee0fe-2291-4127-a5da-838bf1a51fb9\");\n",
       "  if (element == null) {\n",
       "    console.log(\"Bokeh: ERROR: autoload.js configured with elementid 'f87ee0fe-2291-4127-a5da-838bf1a51fb9' but no matching script tag was found. \")\n",
       "    return false;\n",
       "  }\n",
       "\n",
       "  var js_urls = [\"https://cdn.pydata.org/bokeh/release/bokeh-0.12.6.min.js\", \"https://cdn.pydata.org/bokeh/release/bokeh-widgets-0.12.6.min.js\"];\n",
       "\n",
       "  var inline_js = [\n",
       "    function(Bokeh) {\n",
       "      Bokeh.set_log_level(\"info\");\n",
       "    },\n",
       "    \n",
       "    function(Bokeh) {\n",
       "      \n",
       "    },\n",
       "    \n",
       "    function(Bokeh) {\n",
       "      \n",
       "      document.getElementById(\"f87ee0fe-2291-4127-a5da-838bf1a51fb9\").textContent = \"BokehJS is loading...\";\n",
       "    },\n",
       "    function(Bokeh) {\n",
       "      console.log(\"Bokeh: injecting CSS: https://cdn.pydata.org/bokeh/release/bokeh-0.12.6.min.css\");\n",
       "      Bokeh.embed.inject_css(\"https://cdn.pydata.org/bokeh/release/bokeh-0.12.6.min.css\");\n",
       "      console.log(\"Bokeh: injecting CSS: https://cdn.pydata.org/bokeh/release/bokeh-widgets-0.12.6.min.css\");\n",
       "      Bokeh.embed.inject_css(\"https://cdn.pydata.org/bokeh/release/bokeh-widgets-0.12.6.min.css\");\n",
       "    }\n",
       "  ];\n",
       "\n",
       "  function run_inline_js() {\n",
       "    \n",
       "    if ((window.Bokeh !== undefined) || (force === true)) {\n",
       "      for (var i = 0; i < inline_js.length; i++) {\n",
       "        inline_js[i](window.Bokeh);\n",
       "      }if (force === true) {\n",
       "        display_loaded();\n",
       "      }} else if (Date.now() < window._bokeh_timeout) {\n",
       "      setTimeout(run_inline_js, 100);\n",
       "    } else if (!window._bokeh_failed_load) {\n",
       "      console.log(\"Bokeh: BokehJS failed to load within specified timeout.\");\n",
       "      window._bokeh_failed_load = true;\n",
       "    } else if (force !== true) {\n",
       "      var cell = $(document.getElementById(\"f87ee0fe-2291-4127-a5da-838bf1a51fb9\")).parents('.cell').data().cell;\n",
       "      cell.output_area.append_execute_result(NB_LOAD_WARNING)\n",
       "    }\n",
       "\n",
       "  }\n",
       "\n",
       "  if (window._bokeh_is_loading === 0) {\n",
       "    console.log(\"Bokeh: BokehJS loaded, going straight to plotting\");\n",
       "    run_inline_js();\n",
       "  } else {\n",
       "    load_libs(js_urls, function() {\n",
       "      console.log(\"Bokeh: BokehJS plotting callback run at\", now());\n",
       "      run_inline_js();\n",
       "    });\n",
       "  }\n",
       "}(this));"
      ]
     },
     "metadata": {},
     "output_type": "display_data"
    }
   ],
   "source": [
    "# Show matplotlib plots in this notebook\n",
    "%matplotlib inline\n",
    "# Show bokeh plots in this notebook\n",
    "output_notebook()\n",
    "\n",
    "# Setting plot parameters\n",
    "from pylab import rcParams\n",
    "params = {\n",
    "    'figure.figsize': (16, 10),\n",
    "    'legend.fontsize': 15\n",
    "}\n",
    "rcParams.update(params)"
   ]
  },
  {
   "cell_type": "markdown",
   "metadata": {},
   "source": [
    "<h2>Define Helper Functions</h2>"
   ]
  },
  {
   "cell_type": "code",
   "execution_count": 3,
   "metadata": {
    "collapsed": true
   },
   "outputs": [],
   "source": [
    "def plot_polygon(ax, poly, facecolor='red', edgecolor='black', alpha=0.5, linewidth=1):\n",
    "    \"\"\" Plot a single Polygon geometry \"\"\"\n",
    "    from descartes.patch import PolygonPatch\n",
    "    a = np.asarray(poly.exterior)\n",
    "    # without Descartes, we could make a Patch of exterior\n",
    "    ax.add_patch(PolygonPatch(poly, facecolor=facecolor, alpha=alpha))\n",
    "    ax.plot(a[:, 0], a[:, 1], color=edgecolor, linewidth=linewidth)\n",
    "    for p in poly.interiors:\n",
    "        x, y = zip(*p.coords)\n",
    "        ax.plot(x, y, color=edgecolor, linewidth=linewidth)\n",
    "\n",
    "def plot_multipolygon(ax, geom, facecolor='red', edgecolor='black', alpha=0.5, linewidth=1):\n",
    "    \"\"\" Can safely call with either Polygon or Multipolygon geometry\n",
    "    \"\"\"\n",
    "    if geom.type == 'Polygon':\n",
    "        plot_polygon(ax, geom, facecolor=facecolor, edgecolor=edgecolor, alpha=alpha, linewidth=linewidth)\n",
    "    elif geom.type == 'MultiPolygon':\n",
    "        for poly in geom.geoms:\n",
    "            plot_polygon(ax, poly, facecolor=facecolor, edgecolor=edgecolor, alpha=alpha, linewidth=linewidth)\n",
    "\n",
    "\n",
    "def plot_geodataframe(s, column=None, colormap=None, alpha=0.5,\n",
    "                   categorical=False, legend=False, axes=None, linewidth=1):\n",
    "    \"\"\" Plot a GeoDataFrame\n",
    "\n",
    "        Generate a plot of a GeoDataFrame with matplotlib.  If a\n",
    "        column is specified, the plot coloring will be based on values\n",
    "        in that column.  Otherwise, a categorical plot of the\n",
    "        geometries in the `geometry` column will be generated.\n",
    "\n",
    "        Parameters\n",
    "        ----------\n",
    "\n",
    "        GeoDataFrame\n",
    "            The GeoDataFrame to be plotted.  Currently Polygon,\n",
    "            MultiPolygon, LineString, MultiLineString and Point\n",
    "            geometries can be plotted.\n",
    "\n",
    "        column : str (default None)\n",
    "            The name of the column to be plotted.\n",
    "\n",
    "        colormap : str (default 'Set1')\n",
    "            The name of a colormap recognized by matplotlib.\n",
    "\n",
    "        alpha : float (default 0.5)\n",
    "            Alpha value for polygon fill regions.  Has no effect for\n",
    "            lines or points.\n",
    "\n",
    "        legend : bool (default False)\n",
    "            Plot a legend (Experimental; currently for categorical\n",
    "            plots only)\n",
    "\n",
    "        axes : matplotlib.pyplot.Artist (default None)\n",
    "            axes on which to draw the plot\n",
    "\n",
    "\n",
    "        Returns\n",
    "        -------\n",
    "\n",
    "        matplotlib axes instance\n",
    "    \"\"\"\n",
    "    \n",
    "    if colormap is None:\n",
    "        colormap = 'Set1'\n",
    "    categories = list(set(s[column].values))\n",
    "    categories.sort()\n",
    "    valuemap = dict([(k, v) for (v, k) in enumerate(categories)])\n",
    "    values = [valuemap[k] for k in s[column]]\n",
    "\n",
    "    cmap = norm_cmap(values, colormap, Normalize, cm)\n",
    "    if axes == None:\n",
    "        fig = plt.gcf()\n",
    "        fig.add_subplot(111, aspect='equal')\n",
    "        ax = plt.gca()\n",
    "    else:\n",
    "        ax = axes\n",
    "    for geom, value in zip(s.geometry, values):\n",
    "        if geom.type == 'Polygon' or geom.type == 'MultiPolygon':\n",
    "            plot_multipolygon(ax, geom, facecolor=cmap.to_rgba(value), alpha=alpha, linewidth=linewidth)\n",
    "        elif geom.type == 'LineString' or geom.type == 'MultiLineString':\n",
    "            plot_multilinestring(ax, geom, color=cmap.to_rgba(value))\n",
    "        elif geom.type == 'Point':\n",
    "            plot_point(ax, geom, color=cmap.to_rgba(value))\n",
    "    if legend:\n",
    "        patches = []\n",
    "        size = len(categories)\n",
    "        # Legend shows the min, 25th, 50th, 75th and max values\n",
    "        indices = [0, size / 4, size / 2, size / 4 * 3, size - 1]\n",
    "        categories = [categories[i] for i in indices]\n",
    "        for value, cat in zip(indices, categories):\n",
    "            patches.append(Line2D([0], [0], linestyle=\"none\",\n",
    "                                  marker=\"o\", alpha=alpha,\n",
    "                                  markersize=15, markerfacecolor=cmap.to_rgba(value)))\n",
    "        ax.legend(patches, categories, numpoints=1, loc='best')\n",
    "\n",
    "    return ax"
   ]
  },
  {
   "cell_type": "code",
   "execution_count": 4,
   "metadata": {
    "collapsed": true
   },
   "outputs": [],
   "source": [
    "def plot_world_happiness_by_continent(world_happiness_df):\n",
    "    \"\"\"Scatterplot using Bokeh of GDP vs Happiness by country\"\"\"\n",
    "    hover = create_hover_tool()\n",
    "    p = figure(plot_width=900, plot_height=400, tools=[hover, 'pan' ,'box_zoom','reset', 'wheel_zoom'],\n",
    "           title=\"GDP vs Happiness\")\n",
    "    colors = itertools.cycle([\"#3366cc\", \"#dc3912\", \"#ff9900\", \"#109618\", \"#990099\", \"#0099c6\", \n",
    "                              \"#dd4477\", \"#66aa00\", \"#b82e2e\", \"#316395\", \"#994499\", \"#22aa99\", \n",
    "                              \"#aaaa11\", \"#6633cc\", \"#e67300\", \"#8b0707\", \"#651067\", \"#329262\", \n",
    "                              \"#5574a6\", \"#3b3eac\"])\n",
    "    for continent in list(set(world_happiness_df.continent)):\n",
    "        t = (world_happiness_df\n",
    "             .drop('geometry', axis=1)\n",
    "             .rename(columns={'Happiness Score': 'happiness_score'}))\n",
    "        t = t.loc[t['continent'] == continent]\n",
    "        c = ColumnDataSource(data=t)\n",
    "        p.circle('Economy (GDP per Capita)', 'happiness_score', \n",
    "                 legend=continent, fill_color=colors.next(), size=10, source=c)\n",
    "    show(p)\n",
    "    \n",
    "def create_hover_tool():\n",
    "    \"\"\"Create hover tool for bokeh plot\"\"\"\n",
    "    return HoverTool(tooltips=[\n",
    "        (\"Country\", \"@Country\"),\n",
    "        (\"Happiness Score\", \"@happiness_score\"),\n",
    "        (\"GDP Per Capita\", \"@gdp_per_cap\"),\n",
    "        (\"Continent\", \"@continent\"),\n",
    "        (\"Region\", \"@Region\"),\n",
    "    ])\n",
    "\n",
    "def process_dataframe_for_bokeh(df):\n",
    "    \"\"\"Basic data processing to prepare dataframe for bokeh\"\"\"\n",
    "    return df.drop('geometry', axis=1).rename(columns={'Happiness Score': 'happiness_score'})"
   ]
  },
  {
   "cell_type": "markdown",
   "metadata": {},
   "source": [
    "<h2>Initial Exploration</h2>"
   ]
  },
  {
   "cell_type": "code",
   "execution_count": 5,
   "metadata": {
    "collapsed": true
   },
   "outputs": [],
   "source": [
    "# Read in the data\n"
   ]
  },
  {
   "cell_type": "code",
   "execution_count": 6,
   "metadata": {
    "collapsed": true
   },
   "outputs": [],
   "source": [
    "# Show the first 5 rows\n"
   ]
  },
  {
   "cell_type": "markdown",
   "metadata": {},
   "source": [
    "<h2>Step 1</h2>"
   ]
  },
  {
   "cell_type": "code",
   "execution_count": 7,
   "metadata": {
    "collapsed": true
   },
   "outputs": [],
   "source": [
    "# Keep columns that come after the 6th column (including the 6th)\n",
    "\n",
    "# Retrieve a single column of the happiness score\n"
   ]
  },
  {
   "cell_type": "code",
   "execution_count": 8,
   "metadata": {
    "collapsed": true
   },
   "outputs": [],
   "source": [
    "# Double check we have the columns that we want\n"
   ]
  },
  {
   "cell_type": "code",
   "execution_count": 9,
   "metadata": {
    "collapsed": true
   },
   "outputs": [],
   "source": [
    "# Double check wee have the happiness score column\n"
   ]
  },
  {
   "cell_type": "code",
   "execution_count": 10,
   "metadata": {
    "collapsed": true
   },
   "outputs": [],
   "source": [
    "# This scaler normalize values to be in between 0 and 1 for Linear Regression\n",
    "\n",
    "# Preserve the features data frame\n",
    "\n",
    "# Convert the happiness scores\n"
   ]
  },
  {
   "cell_type": "code",
   "execution_count": 11,
   "metadata": {
    "collapsed": true
   },
   "outputs": [],
   "source": [
    "# Double check features are normalized\n"
   ]
  },
  {
   "cell_type": "code",
   "execution_count": 12,
   "metadata": {
    "collapsed": true
   },
   "outputs": [],
   "source": [
    "# Run Linear regression using the ordinary least squares methods\n",
    "# which minimizes the error between each point and our line\n",
    "# F-statistic looks how well the model fits to the data (above 0.05 we reject we have 2.33e-112 so it fits)\n",
    "# R-Squared in general points to good fit\n",
    "\n"
   ]
  },
  {
   "cell_type": "markdown",
   "metadata": {},
   "source": [
    "<h2>Step 2</h2>"
   ]
  },
  {
   "cell_type": "code",
   "execution_count": 13,
   "metadata": {
    "collapsed": true
   },
   "outputs": [],
   "source": [
    "# Import geospatial data with country geometries\n"
   ]
  },
  {
   "cell_type": "code",
   "execution_count": 14,
   "metadata": {
    "collapsed": true
   },
   "outputs": [],
   "source": [
    "# Let's see what the data looks like\n"
   ]
  },
  {
   "cell_type": "code",
   "execution_count": 15,
   "metadata": {
    "collapsed": true
   },
   "outputs": [],
   "source": [
    "# Ignore outlier countries\n",
    "\n",
    "# Calculate gdp per capita (notice gdp is in million dollars)\n",
    "\n",
    "# Convert to whole numbers, so it looks nicer for formatting\n"
   ]
  },
  {
   "cell_type": "code",
   "execution_count": 16,
   "metadata": {
    "collapsed": true
   },
   "outputs": [],
   "source": [
    "# Merge data frames to get happiness data on to our dataset with map data\n"
   ]
  },
  {
   "cell_type": "code",
   "execution_count": 17,
   "metadata": {
    "collapsed": true
   },
   "outputs": [],
   "source": [
    "# Group by continent and take the average score per continent\n"
   ]
  },
  {
   "cell_type": "code",
   "execution_count": 18,
   "metadata": {
    "collapsed": true
   },
   "outputs": [],
   "source": [
    "# create array of numbers from 0 to len(df) - 1\n",
    "\n",
    "# plot scores at positions on plot\n",
    "\n",
    "# set tick values to the continent names\n",
    "\n",
    "\n"
   ]
  },
  {
   "cell_type": "code",
   "execution_count": 19,
   "metadata": {
    "collapsed": true
   },
   "outputs": [],
   "source": [
    "# Split columns into happiness and score arrays\n"
   ]
  },
  {
   "cell_type": "code",
   "execution_count": 20,
   "metadata": {
    "collapsed": true
   },
   "outputs": [],
   "source": [
    "# Group by continent\n"
   ]
  },
  {
   "cell_type": "code",
   "execution_count": 21,
   "metadata": {
    "collapsed": true
   },
   "outputs": [],
   "source": [
    "# Sort by alphabetical order\n",
    "\n",
    "# Get list of scores to match keys\n"
   ]
  },
  {
   "cell_type": "code",
   "execution_count": 22,
   "metadata": {
    "collapsed": true
   },
   "outputs": [],
   "source": [
    "# Boxplot of scores by continent\n"
   ]
  },
  {
   "cell_type": "markdown",
   "metadata": {},
   "source": [
    "<h2>Step 3</h2>"
   ]
  },
  {
   "cell_type": "code",
   "execution_count": 23,
   "metadata": {
    "collapsed": true
   },
   "outputs": [],
   "source": [
    "# Plot map data\n"
   ]
  },
  {
   "cell_type": "code",
   "execution_count": 24,
   "metadata": {
    "collapsed": true
   },
   "outputs": [],
   "source": [
    "# What do the colours mean? no legend? no title?\n",
    "# Use our helper function to add legend and thicken colors\n"
   ]
  },
  {
   "cell_type": "code",
   "execution_count": 25,
   "metadata": {
    "collapsed": true
   },
   "outputs": [],
   "source": [
    "# Plot happiness score by country\n"
   ]
  },
  {
   "cell_type": "code",
   "execution_count": 26,
   "metadata": {
    "collapsed": true
   },
   "outputs": [],
   "source": [
    "# Plot economy score by country\n"
   ]
  },
  {
   "cell_type": "markdown",
   "metadata": {},
   "source": [
    "<h2>Step 4</h2>"
   ]
  },
  {
   "cell_type": "code",
   "execution_count": 27,
   "metadata": {
    "collapsed": true
   },
   "outputs": [],
   "source": [
    "# Process dataframe for bokeh\n"
   ]
  },
  {
   "cell_type": "code",
   "execution_count": 28,
   "metadata": {
    "collapsed": true
   },
   "outputs": [],
   "source": [
    "# Create hover tool\n",
    "# Scatter plot of GDP vs Happiness\n"
   ]
  },
  {
   "cell_type": "code",
   "execution_count": 29,
   "metadata": {
    "collapsed": true
   },
   "outputs": [],
   "source": [
    "# Scatter plot of GDP vs Happiness by continent\n"
   ]
  },
  {
   "cell_type": "code",
   "execution_count": null,
   "metadata": {
    "collapsed": true
   },
   "outputs": [],
   "source": []
  }
 ],
 "metadata": {
  "kernelspec": {
   "display_name": "Python 2",
   "language": "python",
   "name": "python2"
  },
  "language_info": {
   "codemirror_mode": {
    "name": "ipython",
    "version": 2
   },
   "file_extension": ".py",
   "mimetype": "text/x-python",
   "name": "python",
   "nbconvert_exporter": "python",
   "pygments_lexer": "ipython2",
   "version": "2.7.10"
  }
 },
 "nbformat": 4,
 "nbformat_minor": 2
}
